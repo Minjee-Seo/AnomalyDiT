{
 "cells": [
  {
   "cell_type": "code",
   "execution_count": 1,
   "id": "a4216a9d",
   "metadata": {},
   "outputs": [],
   "source": [
    "import pandas as pd\n",
    "import numpy as np\n",
    "from models.dit import DiT\n",
    "import torch\n",
    "import os\n",
    "import matplotlib.pyplot as plt"
   ]
  },
  {
   "cell_type": "code",
   "execution_count": 2,
   "id": "70fbe4cf",
   "metadata": {},
   "outputs": [],
   "source": [
    "train = pd.read_csv('../UCRArchive_2018/NonInvasiveFetalECGThorax1/NonInvasiveFetalECGThorax1_TRAIN.tsv', sep='\\t', index_col=False, header=None)\n",
    "test = pd.read_csv('../UCRArchive_2018/NonInvasiveFetalECGThorax1/NonInvasiveFetalECGThorax1_TEST.tsv', sep='\\t', index_col=None, header=None)"
   ]
  },
  {
   "cell_type": "code",
   "execution_count": 3,
   "id": "61f71be8",
   "metadata": {},
   "outputs": [],
   "source": [
    "train = torch.Tensor(train.drop(columns=0).to_numpy()).unsqueeze(1)\n",
    "test = torch.Tensor(test.drop(columns=0).to_numpy()).unsqueeze(1)"
   ]
  },
  {
   "cell_type": "code",
   "execution_count": 4,
   "id": "795c8406",
   "metadata": {},
   "outputs": [
    {
     "data": {
      "text/plain": [
       "torch.Size([1965, 1, 750])"
      ]
     },
     "execution_count": 4,
     "metadata": {},
     "output_type": "execute_result"
    }
   ],
   "source": [
    "test.shape"
   ]
  },
  {
   "cell_type": "code",
   "execution_count": 5,
   "id": "e3c9e12e",
   "metadata": {},
   "outputs": [],
   "source": [
    "net = DiT(input_size=750,\n",
    "        patch_size=5,\n",
    "        in_channels=1,\n",
    "        hidden_size=300,\n",
    "        depth=28,\n",
    "        num_heads=10,\n",
    "        mlp_ratio=4.0,\n",
    "        class_dropout_prob=0.1,\n",
    "        learn_sigma=False,)"
   ]
  },
  {
   "cell_type": "code",
   "execution_count": 6,
   "id": "373848c3",
   "metadata": {},
   "outputs": [],
   "source": [
    "x = torch.randn(4,1,750)\n",
    "y = test[:4]\n",
    "t = torch.randint(low=0, high=10000, size=(4,))"
   ]
  }
 ],
 "metadata": {
  "kernelspec": {
   "display_name": "torch-gpu",
   "language": "python",
   "name": "torch"
  },
  "language_info": {
   "codemirror_mode": {
    "name": "ipython",
    "version": 3
   },
   "file_extension": ".py",
   "mimetype": "text/x-python",
   "name": "python",
   "nbconvert_exporter": "python",
   "pygments_lexer": "ipython3",
   "version": "3.10.15"
  }
 },
 "nbformat": 4,
 "nbformat_minor": 5
}
