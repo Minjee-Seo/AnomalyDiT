{
 "cells": [
  {
   "cell_type": "code",
   "execution_count": 29,
   "id": "a4216a9d",
   "metadata": {},
   "outputs": [],
   "source": [
    "import torch\n",
    "import pandas as pd\n",
    "import numpy as np\n",
    "import matplotlib.pyplot as plt\n",
    "from torch.utils.data import Dataset, DataLoader\n",
    "from models.dit import DiT\n",
    "from models import *"
   ]
  },
  {
   "cell_type": "markdown",
   "id": "e9b5acdc",
   "metadata": {},
   "source": [
    "#### 테스트 데이터셋 클래스 정의"
   ]
  },
  {
   "cell_type": "code",
   "execution_count": 30,
   "id": "52ccb769",
   "metadata": {},
   "outputs": [],
   "source": [
    "class TimeSeriesDataset(Dataset):\n",
    "    def __init__(self, csv_path):\n",
    "        df = pd.read_csv(csv_path, header=None)\n",
    "\n",
    "        label_map = {label: idx for idx, label in enumerate(df.iloc[:, 0].unique())}\n",
    "        df.iloc[:, 0] = df.iloc[:, 0].map(label_map)\n",
    "\n",
    "        self.X = torch.tensor(df.iloc[:, 1:].values, dtype=torch.float32).unsqueeze(1)\n",
    "        self.y = torch.tensor(df.iloc[:, 0].values, dtype=torch.long)\n",
    "\n",
    "    def __len__(self):\n",
    "        return len(self.X)\n",
    "\n",
    "    def __getitem__(self, idx):\n",
    "        return self.X[idx], self.y[idx]"
   ]
  },
  {
   "cell_type": "markdown",
   "id": "87d9dcd2",
   "metadata": {},
   "source": [
    "#### 모델 불러오기 및 평가 함수 정의"
   ]
  },
  {
   "cell_type": "code",
   "execution_count": null,
   "id": "8bed5b8e",
   "metadata": {},
   "outputs": [],
   "source": [
    "device = torch.device('cuda' if torch.cuda.is_available() else 'cpu')\n",
    "\n",
    "test_dataset = TimeSeriesDataset(\"C:/Users/Pro/Desktop/AnomalyDiT-main/AnomalyDiT-main/Dataset/ECG_Test_with_anomaly.csv\")\n",
    "test_loader = DataLoader(test_dataset, batch_size=64)\n",
    "\n",
    "model = DiT(input_size=750, patch_size=5, in_channels=1, num_classes=42).to(device)\n",
    "model.load_state_dict(torch.load(\"dit_ts_model.pt\"))\n",
    "model.eval()"
   ]
  },
  {
   "cell_type": "markdown",
   "id": "d3db07ab",
   "metadata": {},
   "source": [
    "## 이전"
   ]
  },
  {
   "cell_type": "code",
   "execution_count": 5,
   "id": "70fbe4cf",
   "metadata": {},
   "outputs": [],
   "source": [
    "train = pd.read_csv('C:/Users/Pro/Desktop/AnomalyDiT-main/AnomalyDiT-main/Dataset/ECG_Train_with_anomaly.csv', sep='\\t', index_col=False, header=None)\n",
    "test = pd.read_csv('C:/Users/Pro/Desktop/AnomalyDiT-main/AnomalyDiT-main/Dataset/ECG_Test_with_anomaly.csv', sep='\\t', index_col=None, header=None)"
   ]
  },
  {
   "cell_type": "code",
   "execution_count": 6,
   "id": "61f71be8",
   "metadata": {},
   "outputs": [],
   "source": [
    "train = torch.Tensor(train.drop(columns=0).to_numpy()).unsqueeze(1)\n",
    "test = torch.Tensor(test.drop(columns=0).to_numpy()).unsqueeze(1)"
   ]
  },
  {
   "cell_type": "code",
   "execution_count": 7,
   "id": "795c8406",
   "metadata": {},
   "outputs": [
    {
     "data": {
      "text/plain": [
       "torch.Size([3930, 1, 0])"
      ]
     },
     "execution_count": 7,
     "metadata": {},
     "output_type": "execute_result"
    }
   ],
   "source": [
    "test.shape"
   ]
  },
  {
   "cell_type": "code",
   "execution_count": 8,
   "id": "e3c9e12e",
   "metadata": {},
   "outputs": [],
   "source": [
    "net = DiT(input_size=750,\n",
    "        patch_size=5,\n",
    "        in_channels=1,\n",
    "        hidden_size=300,\n",
    "        depth=28,\n",
    "        num_heads=10,\n",
    "        mlp_ratio=4.0,\n",
    "        class_dropout_prob=0.1,\n",
    "        learn_sigma=False,)"
   ]
  },
  {
   "cell_type": "code",
   "execution_count": 9,
   "id": "373848c3",
   "metadata": {},
   "outputs": [],
   "source": [
    "x = torch.randn(4,1,750)\n",
    "y = test[:4]\n",
    "t = torch.randint(low=0, high=10000, size=(4,))"
   ]
  },
  {
   "cell_type": "code",
   "execution_count": null,
   "id": "013498da",
   "metadata": {},
   "outputs": [],
   "source": []
  }
 ],
 "metadata": {
  "kernelspec": {
   "display_name": "DiT",
   "language": "python",
   "name": "python3"
  },
  "language_info": {
   "codemirror_mode": {
    "name": "ipython",
    "version": 3
   },
   "file_extension": ".py",
   "mimetype": "text/x-python",
   "name": "python",
   "nbconvert_exporter": "python",
   "pygments_lexer": "ipython3",
   "version": "3.12.9"
  }
 },
 "nbformat": 4,
 "nbformat_minor": 5
}
